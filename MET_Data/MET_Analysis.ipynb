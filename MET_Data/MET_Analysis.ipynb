{
 "cells": [
  {
   "cell_type": "code",
   "execution_count": 1,
   "metadata": {},
   "outputs": [],
   "source": [
    "import pandas as pd\n",
    "import matplotlib.pyplot as plt\n",
    "from textblob import TextBlob"
   ]
  },
  {
   "cell_type": "code",
   "execution_count": 2,
   "metadata": {},
   "outputs": [],
   "source": [
    "MetCity = pd.read_csv('MetCity.csv')\n",
    "materials = pd.read_csv('Materials_freq.csv')"
   ]
  },
  {
   "cell_type": "code",
   "execution_count": 3,
   "metadata": {},
   "outputs": [],
   "source": [
    "med = list(materials['Medium'])"
   ]
  },
  {
   "cell_type": "code",
   "execution_count": 4,
   "metadata": {},
   "outputs": [],
   "source": [
    "#Using TextBlob each item is classified using POS tagging to separate the methods from the materials\n",
    "tags = []\n",
    "for i in med:\n",
    "    txt = TextBlob(i)\n",
    "    tag = txt.tags\n",
    "    tags.append(list(tag[-1]))\n",
    "    \n",
    "tagsPD = pd.DataFrame(tags)"
   ]
  },
  {
   "cell_type": "code",
   "execution_count": 6,
   "metadata": {},
   "outputs": [],
   "source": [
    "#Joining the tag classifications with the materials dataframe\n",
    "matTag = pd.merge(materials, tagsPD, left_index=True, right_index=True).drop([0, 'Unnamed: 0'], axis = 1)\n",
    "matTag.columns = ['Medium', 'Frequency', 'Tag']\n",
    "TG = list(tagsPD[1].unique())\n",
    "matTag = matTag.set_index('Tag')"
   ]
  },
  {
   "cell_type": "markdown",
   "metadata": {},
   "source": [
    "Go to https://medium.com/@gianpaul.r/tokenization-and-parts-of-speech-pos-tagging-in-pythons-nltk-library-2d30f70af13b to understand the POS tags, basically verbs (VBG and VBN) constituted methods of artwork and nouns (NNS) constituted a material"
   ]
  },
  {
   "cell_type": "code",
   "execution_count": 8,
   "metadata": {},
   "outputs": [
    {
     "data": {
      "text/plain": [
       "['VBG', 'NN', 'NNS', 'VBN', 'JJ', 'IN', 'RB', 'CD']"
      ]
     },
     "execution_count": 8,
     "metadata": {},
     "output_type": "execute_result"
    }
   ],
   "source": [
    "#Below are the tags identified\n",
    "TG"
   ]
  },
  {
   "cell_type": "markdown",
   "metadata": {},
   "source": [
    "# Artwork Method Data"
   ]
  },
  {
   "cell_type": "markdown",
   "metadata": {},
   "source": [
    "#### The code below matches the method/material tags with the MET dataset and creates columns indicating whether the artwork is made a certain way or of a certain material. This new dataframe is indexed by the Object ID and so can be referred back to the original dataset. Setting the data in this format prepares it for a clustering analysis or other kinds of analyses we wish to do."
   ]
  },
  {
   "cell_type": "code",
   "execution_count": 9,
   "metadata": {},
   "outputs": [
    {
     "name": "stderr",
     "output_type": "stream",
     "text": [
      "/Users/MedoYounes/anaconda3/lib/python3.7/site-packages/ipykernel_launcher.py:2: SettingWithCopyWarning: \n",
      "A value is trying to be set on a copy of a slice from a DataFrame\n",
      "\n",
      "See the caveats in the documentation: http://pandas.pydata.org/pandas-docs/stable/indexing.html#indexing-view-versus-copy\n",
      "  \n",
      "/Users/MedoYounes/anaconda3/lib/python3.7/site-packages/ipykernel_launcher.py:3: SettingWithCopyWarning: \n",
      "A value is trying to be set on a copy of a slice from a DataFrame\n",
      "\n",
      "See the caveats in the documentation: http://pandas.pydata.org/pandas-docs/stable/indexing.html#indexing-view-versus-copy\n",
      "  This is separate from the ipykernel package so we can avoid doing imports until\n"
     ]
    }
   ],
   "source": [
    "\n",
    "#Extracting list of methods\n",
    "#TextBlob misidentifed a few methods as material as these had to be returned to the method list\n",
    "\n",
    "method = matTag.loc[['VBG', 'VBN']]\n",
    "method.loc['NN'] = ['woodcut', 1018]\n",
    "method.loc['L'] = ['lithography',834 ]\n",
    "\n",
    "#Extracting list of materials\n",
    "mat = matTag.loc['NN']\n",
    "mat = mat.set_index('Medium')\n",
    "mat = mat.loc[\n",
    "    ['wood',\n",
    " 'earthenware',\n",
    " 'silver',\n",
    " 'glass',\n",
    " 'stucco',\n",
    " 'gold',\n",
    " 'ink',\n",
    " 'copper',\n",
    " 'steel',\n",
    " 'glaze',\n",
    " 'préaud',\n",
    " 'paper',\n",
    " 'silk',\n",
    " 'brass',\n",
    " 'paint',\n",
    " 'porcelain',\n",
    " 'book',\n",
    " 'mahogany',\n",
    " 'watercolor',\n",
    " 'ivory',\n",
    " 'stonepaste',\n",
    " 'lithograph',\n",
    " 'metal',\n",
    " 'cotton',\n",
    " 'alloy',\n",
    " 'enamel',\n",
    " 'pine',\n",
    " 'bronze',\n",
    " 'bone',\n",
    " 'iron',\n",
    " 'leather',\n",
    " 'pochoir',\n",
    " 'linen',\n",
    " 'wool',\n",
    " 'maple',\n",
    " 'gilt',\n",
    " 'palm',\n",
    " 'walnut',\n",
    " 'limestone',\n",
    " 'thread',\n",
    " 'pewter',\n",
    " 'poplar',\n",
    " 'fiber',\n",
    " 'marble']\n",
    "]"
   ]
  },
  {
   "cell_type": "code",
   "execution_count": 22,
   "metadata": {},
   "outputs": [],
   "source": [
    "#This function takes in the MET data and the method/materials list and produces a dataframe indicating whether\n",
    "#the artwork incoporates a certain method/material, this is show as either 1 (True) or 0 (False)\n",
    "\n",
    "def mediumMatch(data, mediumItems):\n",
    "    mediumItems = mediumItems.reset_index()\n",
    "    tagList = list(mediumItems['Medium'])\n",
    "    tagList.append('Object ID')      \n",
    "    PD = pd.DataFrame(columns = tagList)\n",
    "    PD['Object ID'] = data['Object ID'] \n",
    "    PD = PD.set_index('Object ID')\n",
    "    medList = list(data['Medium'])\n",
    "    IDList = list(data['Object ID'])\n",
    "    tagList.remove('Object ID')\n",
    "    \n",
    "    for i, ID in zip(medList, IDList):\n",
    "    \n",
    "        match = []\n",
    "        medium = str(i).lower()\n",
    "    \n",
    "        for j in tagList:\n",
    "        \n",
    "            if j in str(medium):\n",
    "                match.append(1)\n",
    "            if j not in str(medium): \n",
    "                match.append(0)\n",
    "    \n",
    "            if len(match) == len(PD.columns):\n",
    "                PD.loc[ID] = match\n",
    "                break\n",
    "            \n",
    "    print(PD.sum())\n",
    "    return PD"
   ]
  },
  {
   "cell_type": "markdown",
   "metadata": {},
   "source": [
    "## Final Output"
   ]
  },
  {
   "cell_type": "code",
   "execution_count": 17,
   "metadata": {},
   "outputs": [
    {
     "name": "stdout",
     "output_type": "stream",
     "text": [
      "etching        4476\n",
      "engraving      3163\n",
      "carved         2092\n",
      "painted        1838\n",
      "printed        1296\n",
      "glazed         1007\n",
      "pressed         621\n",
      "incised         577\n",
      "engraved        437\n",
      "molded          299\n",
      "embroidered     210\n",
      "woodcut        1147\n",
      "lithography     808\n",
      "dtype: int64\n"
     ]
    }
   ],
   "source": [
    "MethodsPD = mediumMatch(MetCity, method)"
   ]
  },
  {
   "cell_type": "code",
   "execution_count": 11,
   "metadata": {},
   "outputs": [
    {
     "name": "stdout",
     "output_type": "stream",
     "text": [
      "wood           4187\n",
      "earthenware    2402\n",
      "silver         2322\n",
      "glass          1965\n",
      "stucco         1732\n",
      "gold           1593\n",
      "ink            1569\n",
      "copper         1165\n",
      "steel          1070\n",
      "glaze          2176\n",
      "préaud         1044\n",
      "paper           997\n",
      "silk            934\n",
      "brass           933\n",
      "paint          2735\n",
      "porcelain       846\n",
      "book            676\n",
      "mahogany        536\n",
      "watercolor      592\n",
      "ivory           558\n",
      "stonepaste      548\n",
      "lithograph     1649\n",
      "metal           619\n",
      "cotton          461\n",
      "alloy           405\n",
      "enamel          447\n",
      "pine            400\n",
      "bronze          398\n",
      "bone            389\n",
      "iron            384\n",
      "leather         373\n",
      "pochoir         371\n",
      "linen           352\n",
      "wool            322\n",
      "maple           315\n",
      "gilt            379\n",
      "palm            279\n",
      "walnut          242\n",
      "limestone       248\n",
      "thread          274\n",
      "pewter          224\n",
      "poplar          214\n",
      "fiber           211\n",
      "marble          192\n",
      "dtype: int64\n"
     ]
    }
   ],
   "source": [
    "MaterialsPD = mediumMatch(MetCity, mat)"
   ]
  },
  {
   "cell_type": "code",
   "execution_count": 21,
   "metadata": {},
   "outputs": [],
   "source": [
    "MaterialsPD.to_csv('Materials.csv')\n",
    "MethodsPD.to_csv('Methods.csv')\n",
    "method.to_csv('methodList.csv')\n",
    "mat.to_csv('materialList.csv')"
   ]
  }
 ],
 "metadata": {
  "kernelspec": {
   "display_name": "Python 3",
   "language": "python",
   "name": "python3"
  },
  "language_info": {
   "codemirror_mode": {
    "name": "ipython",
    "version": 3
   },
   "file_extension": ".py",
   "mimetype": "text/x-python",
   "name": "python",
   "nbconvert_exporter": "python",
   "pygments_lexer": "ipython3",
   "version": "3.7.1"
  }
 },
 "nbformat": 4,
 "nbformat_minor": 2
}
