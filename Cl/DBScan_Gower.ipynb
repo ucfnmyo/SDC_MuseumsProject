{
 "cells": [
  {
   "cell_type": "markdown",
   "metadata": {},
   "source": [
    "First the data is imported and classifications updated"
   ]
  },
  {
   "cell_type": "code",
   "execution_count": 136,
   "metadata": {},
   "outputs": [],
   "source": [
    "import pandas as pd\n",
    "import numpy as np\n",
    "import matplotlib.pyplot as plt\n",
    "\n",
    "Met = pd.read_csv('Met430k-2.csv', sep = ',', engine = 'python')\n",
    "Classes = pd.read_csv('classesCleaned.csv', sep = ',', engine = 'python')\n"
   ]
  },
  {
   "cell_type": "code",
   "execution_count": 137,
   "metadata": {},
   "outputs": [
    {
     "data": {
      "text/plain": [
       "Unnamed: 0             427592\n",
       "Unnamed: 0.1           427592\n",
       "Object ID              427592\n",
       "object_number          427592\n",
       "artist_nationality     192674\n",
       "object_begin_date      427592\n",
       "object_end_date        427592\n",
       "credit_line            426965\n",
       "country                427592\n",
       "classification         374667\n",
       "medium                 421276\n",
       "artist_display_name    256333\n",
       "artist_display_bio     234364\n",
       "culture                186901\n",
       "object_name            424522\n",
       "link                   427592\n",
       "acq_year               396331\n",
       "dtype: int64"
      ]
     },
     "execution_count": 137,
     "metadata": {},
     "output_type": "execute_result"
    }
   ],
   "source": [
    "Met.count()"
   ]
  },
  {
   "cell_type": "code",
   "execution_count": 138,
   "metadata": {},
   "outputs": [
    {
     "data": {
      "text/plain": [
       "0        427591\n",
       "Metal    427591\n",
       "dtype: int64"
      ]
     },
     "execution_count": 138,
     "metadata": {},
     "output_type": "execute_result"
    }
   ],
   "source": [
    "Classes.count()"
   ]
  },
  {
   "cell_type": "code",
   "execution_count": 139,
   "metadata": {},
   "outputs": [
    {
     "data": {
      "text/plain": [
       "Unnamed: 0             427592\n",
       "Unnamed: 0.1           427592\n",
       "Object ID              427592\n",
       "object_number          427592\n",
       "artist_nationality     192674\n",
       "object_begin_date      427592\n",
       "object_end_date        427592\n",
       "credit_line            426965\n",
       "country                427592\n",
       "classification         427591\n",
       "medium                 421276\n",
       "artist_display_name    256333\n",
       "artist_display_bio     234364\n",
       "culture                186901\n",
       "object_name            424522\n",
       "link                   427592\n",
       "acq_year               396331\n",
       "dtype: int64"
      ]
     },
     "execution_count": 139,
     "metadata": {},
     "output_type": "execute_result"
    }
   ],
   "source": [
    "ClusterData=Met\n",
    "ClusterData.loc[1:,\"classification\"]=Classes[\"Metal\"]\n",
    "ClusterData.count()"
   ]
  },
  {
   "cell_type": "markdown",
   "metadata": {},
   "source": [
    "The lower estimate for the objects creation date has a number of repetitions - indicating accuracy varies and often to nearest 100 years. The data has a large range with a long tail of historic/prehistoric items. This skews the standard deviation, often used to normalise data for clustering. We can mitigate this by applying a Tukey fence - ignoring data which sits outside 1.5x interquartile range from the upper or lower quartile."
   ]
  },
  {
   "cell_type": "code",
   "execution_count": 140,
   "metadata": {},
   "outputs": [
    {
     "data": {
      "text/plain": [
       " 1800    20490\n",
       " 1700    14472\n",
       " 1900     6494\n",
       "-500      6231\n",
       " 1600     6142\n",
       "-530      6119\n",
       " 1890     5314\n",
       " 1850     5083\n",
       " 1500     5033\n",
       " 1880     4422\n",
       "Name: object_begin_date, dtype: int64"
      ]
     },
     "execution_count": 140,
     "metadata": {},
     "output_type": "execute_result"
    }
   ],
   "source": [
    "ClusterData.object_begin_date.value_counts().head(10)"
   ]
  },
  {
   "cell_type": "code",
   "execution_count": 141,
   "metadata": {},
   "outputs": [
    {
     "data": {
      "text/plain": [
       "count    427592.000000\n",
       "mean       1314.351108\n",
       "std        1664.265032\n",
       "min     -400000.000000\n",
       "25%        1530.000000\n",
       "50%        1797.000000\n",
       "75%        1890.000000\n",
       "max        5000.000000\n",
       "Name: object_begin_date, dtype: float64"
      ]
     },
     "execution_count": 141,
     "metadata": {},
     "output_type": "execute_result"
    }
   ],
   "source": [
    "ClusterData.object_begin_date.describe()"
   ]
  },
  {
   "cell_type": "markdown",
   "metadata": {},
   "source": [
    "First we get rid of some erronous dates"
   ]
  },
  {
   "cell_type": "code",
   "execution_count": 142,
   "metadata": {},
   "outputs": [
    {
     "data": {
      "text/plain": [
       "count       2.0\n",
       "mean     5000.0\n",
       "std         0.0\n",
       "min      5000.0\n",
       "25%      5000.0\n",
       "50%      5000.0\n",
       "75%      5000.0\n",
       "max      5000.0\n",
       "Name: object_begin_date, dtype: float64"
      ]
     },
     "execution_count": 142,
     "metadata": {},
     "output_type": "execute_result"
    }
   ],
   "source": [
    "mistakes = ClusterData.loc[ClusterData.object_begin_date > 2019]\n",
    "ClusterData=ClusterData.loc[ClusterData.object_begin_date <= 2019]\n",
    "mistakes.object_begin_date.describe()"
   ]
  },
  {
   "cell_type": "code",
   "execution_count": 143,
   "metadata": {},
   "outputs": [
    {
     "name": "stdout",
     "output_type": "stream",
     "text": [
      "360.0\n",
      "990.0\n"
     ]
    }
   ],
   "source": [
    "IQR = np.percentile(ClusterData.object_begin_date,75)-np.percentile(ClusterData.object_begin_date,25)\n",
    "print(IQR)\n",
    "cutoff = np.percentile(ClusterData.object_begin_date,25)-1.5*IQR\n",
    "print(cutoff)"
   ]
  },
  {
   "cell_type": "code",
   "execution_count": 144,
   "metadata": {},
   "outputs": [
    {
     "data": {
      "text/plain": [
       "count    347108.000000\n",
       "mean       1787.881991\n",
       "std         167.155292\n",
       "min         990.000000\n",
       "25%        1700.000000\n",
       "50%        1833.000000\n",
       "75%        1907.000000\n",
       "max        2018.000000\n",
       "Name: object_begin_date, dtype: float64"
      ]
     },
     "execution_count": 144,
     "metadata": {},
     "output_type": "execute_result"
    }
   ],
   "source": [
    "outliers = ClusterData.loc[ClusterData.object_begin_date < cutoff]\n",
    "cutData = ClusterData.loc[(ClusterData.object_begin_date >= cutoff)]\n",
    "cutData.object_begin_date.describe()"
   ]
  },
  {
   "cell_type": "code",
   "execution_count": 145,
   "metadata": {},
   "outputs": [
    {
     "data": {
      "text/plain": [
       "count     80482.000000\n",
       "mean       -728.015246\n",
       "std        3075.130237\n",
       "min     -400000.000000\n",
       "25%       -1353.000000\n",
       "50%        -530.000000\n",
       "75%           0.000000\n",
       "max         980.000000\n",
       "Name: object_begin_date, dtype: float64"
      ]
     },
     "execution_count": 145,
     "metadata": {},
     "output_type": "execute_result"
    }
   ],
   "source": [
    "outliers.object_begin_date.describe()"
   ]
  },
  {
   "cell_type": "markdown",
   "metadata": {},
   "source": [
    "By rerunning statistics separately on the core and outlier data, we get a more nuanced picture of the distribution:\n",
    "about 80% of the artwork comes from the last millenium, 5% comes from the the 1st millenium a.d. and the rest stretches out into prehistory. It is also apparent that the cut data still has a skewed distribution. We can plot a histogram to get a better sense of the distribution"
   ]
  },
  {
   "cell_type": "code",
   "execution_count": 159,
   "metadata": {},
   "outputs": [
    {
     "data": {
      "text/plain": [
       "<matplotlib.axes._subplots.AxesSubplot at 0x12060c438>"
      ]
     },
     "execution_count": 159,
     "metadata": {},
     "output_type": "execute_result"
    },
    {
     "data": {
      "image/png": "[encoded data removed]",
      "text/plain": [
       "<Figure size 432x288 with 1 Axes>"
      ]
     },
     "metadata": {
      "needs_background": "light"
     },
     "output_type": "display_data"
    }
   ],
   "source": [
    "ClusterData.object_begin_date.hist(bins=100,log=True)"
   ]
  },
  {
   "cell_type": "code",
   "execution_count": 146,
   "metadata": {},
   "outputs": [
    {
     "data": {
      "text/plain": [
       "<matplotlib.axes._subplots.AxesSubplot at 0x122e1bba8>"
      ]
     },
     "execution_count": 146,
     "metadata": {},
     "output_type": "execute_result"
    },
    {
     "data": {
      "image/png": "[encoded data removed]",
      "text/plain": [
       "<Figure size 432x288 with 1 Axes>"
      ]
     },
     "metadata": {
      "needs_background": "light"
     },
     "output_type": "display_data"
    }
   ],
   "source": [
    "ClusterData.loc[(ClusterData.object_begin_date >= -2000)].object_begin_date.hist(bins=40)"
   ]
  },
  {
   "cell_type": "markdown",
   "metadata": {},
   "source": [
    "There are some concentrations of datapoints in pre-history, but this may reflect the tendency for age estimates to be bounded at rounded dates. Interestingly by plotting more recent artwork on a log chart, there appear to be a power-law type relationship on the amount of art present, with a noticeable step-up around 1500 - an American effect?"
   ]
  },
  {
   "cell_type": "code",
   "execution_count": 147,
   "metadata": {},
   "outputs": [
    {
     "data": {
      "text/plain": [
       "(array([  1214.,   1840.,   2374.,   2729.,   3502.,  10332.,  20562.,\n",
       "         31342.,  40361.,  69641., 105880.,  57314.]),\n",
       " array([1000.        , 1084.83333333, 1169.66666667, 1254.5       ,\n",
       "        1339.33333333, 1424.16666667, 1509.        , 1593.83333333,\n",
       "        1678.66666667, 1763.5       , 1848.33333333, 1933.16666667,\n",
       "        2018.        ]),\n",
       " <a list of 12 Patch objects>)"
      ]
     },
     "execution_count": 147,
     "metadata": {},
     "output_type": "execute_result"
    },
    {
     "data": {
      "image/png": "[encoded data removed]",
      "text/plain": [
       "<Figure size 432x288 with 1 Axes>"
      ]
     },
     "metadata": {
      "needs_background": "light"
     },
     "output_type": "display_data"
    }
   ],
   "source": [
    "plt.hist(ClusterData.loc[ClusterData.object_begin_date >= 1000].object_begin_date,bins=12,log=True)"
   ]
  },
  {
   "cell_type": "markdown",
   "metadata": {},
   "source": [
    "The skewness of the data possibly reflects both a survival/interest bias but also the increasing speed of changes in artwork. Either way, when normalising the distance function in our clustering a linear scale function may not be appropriate - 100 years of distance in modern times is far more signfiicant than 100 years of distance in historical times."
   ]
  },
  {
   "cell_type": "code",
   "execution_count": 151,
   "metadata": {},
   "outputs": [
    {
     "data": {
      "text/plain": [
       "pandas.core.frame.DataFrame"
      ]
     },
     "execution_count": 151,
     "metadata": {},
     "output_type": "execute_result"
    }
   ],
   "source": [
    "type(ClusterData)"
   ]
  },
  {
   "cell_type": "code",
   "execution_count": 155,
   "metadata": {},
   "outputs": [
    {
     "data": {
      "text/plain": [
       "22026.465794806718"
      ]
     },
     "execution_count": 155,
     "metadata": {},
     "output_type": "execute_result"
    }
   ],
   "source": [
    "np.exp(10)"
   ]
  },
  {
   "cell_type": "code",
   "execution_count": 156,
   "metadata": {},
   "outputs": [],
   "source": [
    "for i in ClusterData.index:\n",
    "        ClusterData.at[i, 'normalised_date'] = np.exp(ClusterData.at[i, 'object_begin_date']/1000 + 2)/np.exp(4)"
   ]
  },
  {
   "cell_type": "code",
   "execution_count": 163,
   "metadata": {},
   "outputs": [
    {
     "data": {
      "text/plain": [
       "<matplotlib.axes._subplots.AxesSubplot at 0x12025e9e8>"
      ]
     },
     "execution_count": 163,
     "metadata": {},
     "output_type": "execute_result"
    },
    {
     "data": {
      "image/png": "[encoded data removed]",
      "text/plain": [
       "<Figure size 432x288 with 1 Axes>"
      ]
     },
     "metadata": {
      "needs_background": "light"
     },
     "output_type": "display_data"
    }
   ],
   "source": [
    "ClusterData.normalised_date.hist(bins=30,log=False)"
   ]
  },
  {
   "cell_type": "markdown",
   "metadata": {},
   "source": [
    "0=-2000, 0.2= 400, 0.4 =1000, 0.6=1500, 0.8= 1776 1 =2000"
   ]
  },
  {
   "cell_type": "code",
   "execution_count": 115,
   "metadata": {},
   "outputs": [
    {
     "data": {
      "text/plain": [
       "Prints            103631\n",
       "Unknown/Other      52925\n",
       "Photographs        35188\n",
       "Drawings           29579\n",
       "Textiles           29442\n",
       "Ceramics           24441\n",
       "Vases              20531\n",
       "Books              14037\n",
       "Paintings          11342\n",
       "Metalwork          10553\n",
       "Glass               8234\n",
       "Sculpture           6170\n",
       "Negatives           6162\n",
       "Wood                3239\n",
       "Sword               3236\n",
       "Stone               3136\n",
       "|                   3064\n",
       "Silver              2417\n",
       "Ornament            2245\n",
       "Medals              2174\n",
       "Woodwork            2167\n",
       "Jewelry             2016\n",
       "Ornaments           1966\n",
       "Miscellaneous       1927\n",
       "Furniture           1837\n",
       "Stucco              1793\n",
       "Aerophone           1767\n",
       "Metal               1569\n",
       "Gems                1535\n",
       "Terracottas         1534\n",
       "                   ...  \n",
       "Crèche               335\n",
       "Pottery              306\n",
       "Ephemera             306\n",
       "Seals                287\n",
       "Basketry             283\n",
       "Media                273\n",
       "Hardstone            266\n",
       "Beads                266\n",
       "Chess                260\n",
       "Miniatures           244\n",
       "Vessels              226\n",
       "Blocks               220\n",
       "Manuscript           212\n",
       "Transparencies       209\n",
       "Rubbing              206\n",
       "Papyrus              202\n",
       "Screens              188\n",
       "Cloisonné            184\n",
       "Cesnola              181\n",
       "Womenswear           172\n",
       "Shell                171\n",
       "Reproductions        169\n",
       "Architecture         159\n",
       "Accessory            155\n",
       "Ojime                152\n",
       "Containers           147\n",
       "Posters              147\n",
       "Shields              135\n",
       "Plates               127\n",
       "Bamboo               124\n",
       "Name: classification, Length: 100, dtype: int64"
      ]
     },
     "execution_count": 115,
     "metadata": {},
     "output_type": "execute_result"
    }
   ],
   "source": [
    "ClusterData.classification.value_counts().head(100)"
   ]
  },
  {
   "cell_type": "code",
   "execution_count": 119,
   "metadata": {},
   "outputs": [
    {
     "data": {
      "text/plain": [
       "0.77567061905096"
      ]
     },
     "execution_count": 119,
     "metadata": {},
     "output_type": "execute_result"
    }
   ],
   "source": [
    "sum(ClusterData.classification.value_counts().head(10))/ClusterData.classification.count()"
   ]
  },
  {
   "cell_type": "code",
   "execution_count": 121,
   "metadata": {},
   "outputs": [
    {
     "data": {
      "text/plain": [
       "0.8693982553380575"
      ]
     },
     "execution_count": 121,
     "metadata": {},
     "output_type": "execute_result"
    }
   ],
   "source": [
    "sum(ClusterData.classification.value_counts().head(20))/ClusterData.classification.count()"
   ]
  },
  {
   "cell_type": "code",
   "execution_count": 123,
   "metadata": {},
   "outputs": [
    {
     "data": {
      "text/plain": [
       "0.9560373254753385"
      ]
     },
     "execution_count": 123,
     "metadata": {},
     "output_type": "execute_result"
    }
   ],
   "source": [
    "sum(ClusterData.classification.value_counts().head(50))/ClusterData.classification.count()"
   ]
  },
  {
   "cell_type": "code",
   "execution_count": 124,
   "metadata": {},
   "outputs": [
    {
     "data": {
      "text/plain": [
       "Terracotta                                                       22424\n",
       "Etching                                                          15977\n",
       "Commercial color lithograph                                      13942\n",
       "Engraving                                                        10357\n",
       "Gelatin silver print                                              9113\n",
       "Albumen photograph                                                7316\n",
       "Silk                                                              7273\n",
       "Glass                                                             6009\n",
       "Film negative                                                     5889\n",
       "Bronze                                                            5873\n",
       "Lithograph                                                        5868\n",
       "Faience                                                           4747\n",
       "Albumen silver print from glass negative                          4720\n",
       "Woodcut                                                           4414\n",
       "silk                                                              4295\n",
       "Silver                                                            4279\n",
       "Oil on canvas                                                     3832\n",
       "Gold                                                              3164\n",
       "Polychrome woodblock print; ink and color on paper                3082\n",
       "Etching and engraving                                             2925\n",
       "Cotton                                                            2847\n",
       "Wood                                                              2665\n",
       "Instant color print                                               2635\n",
       "Hard-paste porcelain                                              2580\n",
       "Photolithograph                                                   2532\n",
       "Porcelain                                                         2312\n",
       "Albumen silver print                                              2168\n",
       "cotton                                                            2099\n",
       "Wood engraving                                                    1932\n",
       "Limestone                                                         1885\n",
       "                                                                 ...  \n",
       "Etching; second state of two (Lieure)                              713\n",
       "Pen and black ink, watercolor and gouache with gum arabic          688\n",
       "Steatite                                                           670\n",
       "Mud                                                                661\n",
       "Ink, opaque watercolor, and gold on paper                          655\n",
       "Silk, metallic thread                                              647\n",
       "Flint                                                              641\n",
       "Jade                                                               640\n",
       "Wool                                                               635\n",
       "Watercolor on ivory                                                630\n",
       "Glazed steatite                                                    623\n",
       "Carnelian                                                          621\n",
       "Illustrations: engraving                                           621\n",
       "Oil on wood                                                        580\n",
       "Pewter                                                             574\n",
       "Etching; only state                                                571\n",
       "Albumen silver prints                                              562\n",
       "Lithograph; second state of two (Delteil)                          553\n",
       "Graphite on off-white wove paper                                   543\n",
       "Commerical color lithograph                                        539\n",
       "Illustrations: lithography                                         534\n",
       "Etching; second state of two                                       534\n",
       "Copper alloy                                                       534\n",
       "Lead                                                               524\n",
       "Needle lace                                                        523\n",
       "linen                                                              514\n",
       "Polychrome woodblock print (surimono); ink and color on paper      499\n",
       "Wood, paint                                                        488\n",
       "wool, silk                                                         463\n",
       "Hand-colored etching and aquatint                                  462\n",
       "Name: medium, Length: 100, dtype: int64"
      ]
     },
     "execution_count": 124,
     "metadata": {},
     "output_type": "execute_result"
    }
   ],
   "source": [
    "ClusterData.medium.value_counts().head(100)"
   ]
  },
  {
   "cell_type": "code",
   "execution_count": 127,
   "metadata": {},
   "outputs": [
    {
     "data": {
      "text/plain": [
       "0.5496517705816167"
      ]
     },
     "execution_count": 127,
     "metadata": {},
     "output_type": "execute_result"
    }
   ],
   "source": [
    "sum(ClusterData.medium.value_counts().head(100))/ClusterData.medium.count()"
   ]
  },
  {
   "cell_type": "code",
   "execution_count": null,
   "metadata": {},
   "outputs": [],
   "source": [
    "sum(ClusterData.medium.value_counts().head(100))/ClusterData.medium.count()"
   ]
  },
  {
   "cell_type": "code",
   "execution_count": null,
   "metadata": {},
   "outputs": [],
   "source": []
  },
  {
   "cell_type": "code",
   "execution_count": null,
   "metadata": {},
   "outputs": [],
   "source": [
    "ClusterDataColumns = ClusterData[[\"Unnamed: 0\",\"object_begin_date\",\"classification\",\"medium\"]]\n",
    "\n",
    "import scipy\n",
    "from sklearn.cluster import DBSCAN\n",
    "from sklearn import metrics\n",
    "import functools\n",
    "\n",
    "\n",
    "def metricFunction(x,y,mu):\n",
    "    numeric = abs(x[1]-y[1])  #this will be the date distance needs normalisation\n",
    "    categorical = int(x[2]!=y[2]) + int(x[3]!=y[3])\n",
    "    distance = numeric + mu * categorical\n",
    "    return distance\n",
    "\n",
    "def dbscanFit(data, eps, minSamples,mu):\n",
    "    metric_weighted=functools.partial(metricFunction,mu=mu)\n",
    "    #DBSCAN for non Year Data\n",
    "    dbscan = DBSCAN(eps = eps, metric = metric_weighted, min_samples = minSamples)\n",
    "    dbscan.fit(data)\n",
    "    dbscan_labels = dbscan.labels_\n",
    "    silh = metrics.silhouette_score(data, dbscan_labels)\n",
    "    print(\"Silhouette Score: \", silh)\n",
    "    clusters = pd.DataFrame(dbscan_labels)\n",
    "    clusters['Count'] = 1\n",
    "    clusters.columns = ['Cluster ID', 'Count']\n",
    "    print(clusters.groupby('Cluster ID').sum().head())\n",
    "    \n",
    "    return dbscan_labels\n"
   ]
  },
  {
   "cell_type": "code",
   "execution_count": null,
   "metadata": {},
   "outputs": [],
   "source": []
  },
  {
   "cell_type": "code",
   "execution_count": null,
   "metadata": {},
   "outputs": [],
   "source": []
  },
  {
   "cell_type": "code",
   "execution_count": null,
   "metadata": {},
   "outputs": [],
   "source": []
  }
 ],
 "metadata": {
  "kernelspec": {
   "display_name": "Python 3",
   "language": "python",
   "name": "python3"
  },
  "language_info": {
   "codemirror_mode": {
    "name": "ipython",
    "version": 3
   },
   "file_extension": ".py",
   "mimetype": "text/x-python",
   "name": "python",
   "nbconvert_exporter": "python",
   "pygments_lexer": "ipython3",
   "version": "3.6.8"
  }
 },
 "nbformat": 4,
 "nbformat_minor": 2
}
