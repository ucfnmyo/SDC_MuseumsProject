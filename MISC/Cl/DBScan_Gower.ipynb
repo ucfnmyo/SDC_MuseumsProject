{
 "cells": [
  {
   "cell_type": "markdown",
   "metadata": {},
   "source": [
    "First the data is imported and classifications updated"
   ]
  },
  {
   "cell_type": "code",
   "execution_count": 2,
   "metadata": {},
   "outputs": [],
   "source": [
    "import pandas as pd\n",
    "import numpy as np\n",
    "import matplotlib.pyplot as plt\n",
    "\n",
    "Met = pd.read_csv('Met430k.csv', sep = ',', engine = 'python')\n",
    "\n"
   ]
  },
  {
   "cell_type": "code",
   "execution_count": 3,
   "metadata": {},
   "outputs": [
    {
     "data": {
      "text/plain": [
       "Unnamed: 0             427592\n",
       "Object ID              427592\n",
       "object_number          427592\n",
       "artist_nationality     192674\n",
       "object_begin_date      427592\n",
       "object_end_date        427592\n",
       "credit_line            426965\n",
       "country                427592\n",
       "classification         374667\n",
       "medium                 421276\n",
       "artist_display_name    256333\n",
       "artist_display_bio     234364\n",
       "culture                186901\n",
       "object_name            424522\n",
       "link                   427592\n",
       "acq_year               396331\n",
       "Class_General          427592\n",
       "dtype: int64"
      ]
     },
     "execution_count": 3,
     "metadata": {},
     "output_type": "execute_result"
    }
   ],
   "source": [
    "Met.count()"
   ]
  },
  {
   "cell_type": "code",
   "execution_count": 4,
   "metadata": {},
   "outputs": [],
   "source": [
    "ClusterData=Met"
   ]
  },
  {
   "cell_type": "markdown",
   "metadata": {},
   "source": [
    "The lower estimate for the objects creation date has a number of repetitions - indicating accuracy varies and often to nearest 100 years. The data has a large range with a long tail of historic/prehistoric items. This skews the standard deviation, often used to normalise data for clustering. We can mitigate this by applying a Tukey fence - ignoring data which sits outside 1.5x interquartile range from the upper or lower quartile."
   ]
  },
  {
   "cell_type": "code",
   "execution_count": 5,
   "metadata": {},
   "outputs": [
    {
     "data": {
      "text/plain": [
       " 1800    20490\n",
       " 1700    14472\n",
       " 1900     6494\n",
       "-500      6231\n",
       " 1600     6142\n",
       "-530      6119\n",
       " 1890     5314\n",
       " 1850     5083\n",
       " 1500     5033\n",
       " 1880     4422\n",
       "Name: object_begin_date, dtype: int64"
      ]
     },
     "execution_count": 5,
     "metadata": {},
     "output_type": "execute_result"
    }
   ],
   "source": [
    "ClusterData.object_begin_date.value_counts().head(10)"
   ]
  },
  {
   "cell_type": "code",
   "execution_count": 6,
   "metadata": {},
   "outputs": [
    {
     "data": {
      "text/plain": [
       "count    427592.000000\n",
       "mean       1314.351108\n",
       "std        1664.265032\n",
       "min     -400000.000000\n",
       "25%        1530.000000\n",
       "50%        1797.000000\n",
       "75%        1890.000000\n",
       "max        5000.000000\n",
       "Name: object_begin_date, dtype: float64"
      ]
     },
     "execution_count": 6,
     "metadata": {},
     "output_type": "execute_result"
    }
   ],
   "source": [
    "ClusterData.object_begin_date.describe()"
   ]
  },
  {
   "cell_type": "markdown",
   "metadata": {},
   "source": [
    "First we get rid of some erronous dates"
   ]
  },
  {
   "cell_type": "code",
   "execution_count": 7,
   "metadata": {},
   "outputs": [
    {
     "data": {
      "text/plain": [
       "count       2.0\n",
       "mean     5000.0\n",
       "std         0.0\n",
       "min      5000.0\n",
       "25%      5000.0\n",
       "50%      5000.0\n",
       "75%      5000.0\n",
       "max      5000.0\n",
       "Name: object_begin_date, dtype: float64"
      ]
     },
     "execution_count": 7,
     "metadata": {},
     "output_type": "execute_result"
    }
   ],
   "source": [
    "mistakes = ClusterData.loc[ClusterData.object_begin_date > 2019]\n",
    "ClusterData=ClusterData.loc[ClusterData.object_begin_date <= 2019]\n",
    "mistakes.object_begin_date.describe()"
   ]
  },
  {
   "cell_type": "code",
   "execution_count": 8,
   "metadata": {},
   "outputs": [
    {
     "name": "stdout",
     "output_type": "stream",
     "text": [
      "360.0\n",
      "990.0\n"
     ]
    }
   ],
   "source": [
    "IQR = np.percentile(ClusterData.object_begin_date,75)-np.percentile(ClusterData.object_begin_date,25)\n",
    "print(IQR)\n",
    "cutoff = np.percentile(ClusterData.object_begin_date,25)-1.5*IQR\n",
    "print(cutoff)"
   ]
  },
  {
   "cell_type": "code",
   "execution_count": 9,
   "metadata": {},
   "outputs": [
    {
     "data": {
      "text/plain": [
       "count    347108.000000\n",
       "mean       1787.881991\n",
       "std         167.155292\n",
       "min         990.000000\n",
       "25%        1700.000000\n",
       "50%        1833.000000\n",
       "75%        1907.000000\n",
       "max        2018.000000\n",
       "Name: object_begin_date, dtype: float64"
      ]
     },
     "execution_count": 9,
     "metadata": {},
     "output_type": "execute_result"
    }
   ],
   "source": [
    "outliers = ClusterData.loc[ClusterData.object_begin_date < cutoff]\n",
    "cutData = ClusterData.loc[(ClusterData.object_begin_date >= cutoff)]\n",
    "cutData.object_begin_date.describe()"
   ]
  },
  {
   "cell_type": "code",
   "execution_count": 10,
   "metadata": {},
   "outputs": [
    {
     "data": {
      "text/plain": [
       "count     80482.000000\n",
       "mean       -728.015246\n",
       "std        3075.130237\n",
       "min     -400000.000000\n",
       "25%       -1353.000000\n",
       "50%        -530.000000\n",
       "75%           0.000000\n",
       "max         980.000000\n",
       "Name: object_begin_date, dtype: float64"
      ]
     },
     "execution_count": 10,
     "metadata": {},
     "output_type": "execute_result"
    }
   ],
   "source": [
    "outliers.object_begin_date.describe()"
   ]
  },
  {
   "cell_type": "markdown",
   "metadata": {},
   "source": [
    "By rerunning statistics separately on the core and outlier data, we get a more nuanced picture of the distribution:\n",
    "about 80% of the artwork comes from the last millenium, 5% comes from the the 1st millenium a.d. and the rest stretches out into prehistory. It is also apparent that the cut data still has a skewed distribution. We can plot a histogram to get a better sense of the distribution"
   ]
  },
  {
   "cell_type": "code",
   "execution_count": 11,
   "metadata": {},
   "outputs": [
    {
     "data": {
      "text/plain": [
       "<matplotlib.axes._subplots.AxesSubplot at 0x137216fd0>"
      ]
     },
     "execution_count": 11,
     "metadata": {},
     "output_type": "execute_result"
    },
    {
     "data": {
      "image/png": "[encoded data removed]",
      "text/plain": [
       "<Figure size 432x288 with 1 Axes>"
      ]
     },
     "metadata": {
      "needs_background": "light"
     },
     "output_type": "display_data"
    }
   ],
   "source": [
    "ClusterData.object_begin_date.hist(bins=100,log=True)"
   ]
  },
  {
   "cell_type": "code",
   "execution_count": 12,
   "metadata": {},
   "outputs": [
    {
     "data": {
      "text/plain": [
       "<matplotlib.axes._subplots.AxesSubplot at 0x117cefa58>"
      ]
     },
     "execution_count": 12,
     "metadata": {},
     "output_type": "execute_result"
    },
    {
     "data": {
      "image/png": "[encoded data removed]",
      "text/plain": [
       "<Figure size 432x288 with 1 Axes>"
      ]
     },
     "metadata": {
      "needs_background": "light"
     },
     "output_type": "display_data"
    }
   ],
   "source": [
    "ClusterData.loc[(ClusterData.object_begin_date >= -2000)].object_begin_date.hist(bins=40)"
   ]
  },
  {
   "cell_type": "markdown",
   "metadata": {},
   "source": [
    "There are some concentrations of datapoints in pre-history, but this may reflect the tendency for age estimates to be bounded at rounded dates. Interestingly by plotting more recent artwork on a log chart, there appear to be a power-law type relationship on the amount of art present, with a noticeable step-up around 1500 - an American effect?"
   ]
  },
  {
   "cell_type": "code",
   "execution_count": 13,
   "metadata": {},
   "outputs": [
    {
     "data": {
      "text/plain": [
       "(array([  1214.,   1840.,   2374.,   2729.,   3502.,  10332.,  20562.,\n",
       "         31342.,  40361.,  69641., 105880.,  57314.]),\n",
       " array([1000.        , 1084.83333333, 1169.66666667, 1254.5       ,\n",
       "        1339.33333333, 1424.16666667, 1509.        , 1593.83333333,\n",
       "        1678.66666667, 1763.5       , 1848.33333333, 1933.16666667,\n",
       "        2018.        ]),\n",
       " <a list of 12 Patch objects>)"
      ]
     },
     "execution_count": 13,
     "metadata": {},
     "output_type": "execute_result"
    },
    {
     "data": {
      "image/png": "[encoded data removed]",
      "text/plain": [
       "<Figure size 432x288 with 1 Axes>"
      ]
     },
     "metadata": {
      "needs_background": "light"
     },
     "output_type": "display_data"
    }
   ],
   "source": [
    "plt.hist(ClusterData.loc[ClusterData.object_begin_date >= 1000].object_begin_date,bins=12,log=True)"
   ]
  },
  {
   "cell_type": "markdown",
   "metadata": {},
   "source": [
    "The skewness of the data possibly reflects both a survival/interest bias but also the increasing speed of changes in artwork. Either way, when normalising the distance function in our clustering a linear scale function may not be appropriate - 100 years of distance in modern times is far more signfiicant than 100 years of distance in historical times."
   ]
  },
  {
   "cell_type": "code",
   "execution_count": 14,
   "metadata": {},
   "outputs": [
    {
     "name": "stderr",
     "output_type": "stream",
     "text": [
      "/Users/terry/anaconda3/lib/python3.6/site-packages/pandas/core/indexing.py:362: SettingWithCopyWarning: \n",
      "A value is trying to be set on a copy of a slice from a DataFrame.\n",
      "Try using .loc[row_indexer,col_indexer] = value instead\n",
      "\n",
      "See the caveats in the documentation: http://pandas.pydata.org/pandas-docs/stable/indexing.html#indexing-view-versus-copy\n",
      "  self.obj[key] = _infer_fill_value(value)\n",
      "/Users/terry/anaconda3/lib/python3.6/site-packages/pandas/core/indexing.py:543: SettingWithCopyWarning: \n",
      "A value is trying to be set on a copy of a slice from a DataFrame.\n",
      "Try using .loc[row_indexer,col_indexer] = value instead\n",
      "\n",
      "See the caveats in the documentation: http://pandas.pydata.org/pandas-docs/stable/indexing.html#indexing-view-versus-copy\n",
      "  self.obj[item] = s\n"
     ]
    }
   ],
   "source": [
    "for i in ClusterData.index:\n",
    "        ClusterData.at[i, 'normalised_age'] = (np.log((2120-ClusterData.at[i, 'object_begin_date']))-5.6)*2"
   ]
  },
  {
   "cell_type": "markdown",
   "metadata": {},
   "source": [
    "Date transformation (to log of artwork age) standardised to a mean of ~0 and std .dev. of 2. The implication of this is that an artwork from today is a distance of 1 from a piece from the 1950s, which is 1 distance away from the 1850s which is 1 away from 1650s and so on."
   ]
  },
  {
   "cell_type": "code",
   "execution_count": null,
   "metadata": {},
   "outputs": [],
   "source": []
  },
  {
   "cell_type": "code",
   "execution_count": 15,
   "metadata": {},
   "outputs": [
    {
     "data": {
      "text/plain": [
       "<matplotlib.axes._subplots.AxesSubplot at 0x10ace4278>"
      ]
     },
     "execution_count": 15,
     "metadata": {},
     "output_type": "execute_result"
    },
    {
     "data": {
      "image/png": "[encoded data removed]",
      "text/plain": [
       "<Figure size 432x288 with 1 Axes>"
      ]
     },
     "metadata": {
      "needs_background": "light"
     },
     "output_type": "display_data"
    }
   ],
   "source": [
    "ClusterData.normalised_age.hist(bins=30,log=False)"
   ]
  },
  {
   "cell_type": "code",
   "execution_count": 16,
   "metadata": {},
   "outputs": [
    {
     "data": {
      "text/plain": [
       "count    427590.000000\n",
       "mean          1.014223\n",
       "std           1.921218\n",
       "min          -1.950054\n",
       "25%          -0.323841\n",
       "50%           0.355305\n",
       "75%           1.560245\n",
       "max          14.609012\n",
       "Name: normalised_age, dtype: float64"
      ]
     },
     "execution_count": 16,
     "metadata": {},
     "output_type": "execute_result"
    }
   ],
   "source": [
    "ClusterData.normalised_age.describe()"
   ]
  },
  {
   "cell_type": "markdown",
   "metadata": {},
   "source": [
    "0=-2000, 0.2= 400, 0.4 =1000, 0.6=1500, 0.8= 1776 1 =2000"
   ]
  },
  {
   "cell_type": "markdown",
   "metadata": {},
   "source": [
    "<h2> Adding pairwise distance to the clustering</h2>\n",
    "lat, longs can't be stuck into DBScan normally due to the global scale."
   ]
  },
  {
   "cell_type": "code",
   "execution_count": 19,
   "metadata": {},
   "outputs": [],
   "source": [
    "import math\n",
    "\n",
    "def Haversine(origin, destination):\n",
    "    #Calculate the Haversine distance  - not scaled for earth radius.\n",
    "    lat1, lon1 = origin\n",
    "    lat2, lon2 = destination\n",
    "    \n",
    "    dlat = math.radians(lat2 - lat1)\n",
    "    dlon = math.radians(lon2 - lon1)\n",
    "    a = (math.sin(dlat / 2) * math.sin(dlat / 2) +\n",
    "         math.cos(math.radians(lat1)) * math.cos(math.radians(lat2)) *\n",
    "         math.sin(dlon / 2) * math.sin(dlon / 2))\n",
    "    c = 2 * math.atan2(math.sqrt(a), math.sqrt(1 - a))\n",
    "    return c"
   ]
  },
  {
   "cell_type": "code",
   "execution_count": 20,
   "metadata": {},
   "outputs": [],
   "source": [
    "geocodes = pd.read_csv('geocodes.csv', sep = ',', engine = 'python')"
   ]
  },
  {
   "cell_type": "code",
   "execution_count": 21,
   "metadata": {},
   "outputs": [
    {
     "data": {
      "text/plain": [
       "United States       113767\n",
       "France               61254\n",
       "Italy                41026\n",
       "Egypt                33500\n",
       "United Kingdom       31654\n",
       "Japan                23263\n",
       "Greece               21588\n",
       "Germany              18047\n",
       "China                16460\n",
       "Netherlands          11438\n",
       "Iran                  8698\n",
       "Spain                 4803\n",
       "India                 4134\n",
       "Peru                  3519\n",
       "Mexico                3419\n",
       "Brazil                3178\n",
       "Cyprus                2912\n",
       "Austria               2820\n",
       "Indonesia             2728\n",
       "Zaire                 2378\n",
       "Czech Republic        1584\n",
       "Switzerland           1473\n",
       "Canada                1350\n",
       "Turkey                 983\n",
       "Iraq                   918\n",
       "Ireland                911\n",
       "Papua New Guinea       882\n",
       "Nigeria                682\n",
       "Syria                  601\n",
       "Thailand               553\n",
       "                     ...  \n",
       "Cambodia                 5\n",
       "Kiribati                 5\n",
       "Honduras                 5\n",
       "Nicaragua                5\n",
       "Vietnam                  4\n",
       "Ukraine                  4\n",
       "Greenland                4\n",
       "Somalia                  3\n",
       "Guinea                   3\n",
       "Lebanon                  3\n",
       "Mauritania               3\n",
       "Albania                  3\n",
       "Chad                     3\n",
       "Bhutan                   2\n",
       "Malawi                   2\n",
       "Bermuda                  2\n",
       "French Guiana            2\n",
       "Puerto Rico              2\n",
       "Belize                   2\n",
       "Sri Lanka                1\n",
       "Namibia                  1\n",
       "Kuwait                   1\n",
       "Slovenia                 1\n",
       "Laos                     1\n",
       "Slovakia                 1\n",
       "Tajikistan               1\n",
       "Lesotho                  1\n",
       "Romania                  1\n",
       "Uruguay                  1\n",
       "Malta                    1\n",
       "Name: country, Length: 134, dtype: int64"
      ]
     },
     "execution_count": 21,
     "metadata": {},
     "output_type": "execute_result"
    }
   ],
   "source": [
    "geocodes.country.value_counts()"
   ]
  },
  {
   "cell_type": "code",
   "execution_count": 22,
   "metadata": {},
   "outputs": [
    {
     "data": {
      "text/html": [
       "<div>\n",
       "<style scoped>\n",
       "    .dataframe tbody tr th:only-of-type {\n",
       "        vertical-align: middle;\n",
       "    }\n",
       "\n",
       "    .dataframe tbody tr th {\n",
       "        vertical-align: top;\n",
       "    }\n",
       "\n",
       "    .dataframe thead th {\n",
       "        text-align: right;\n",
       "    }\n",
       "</style>\n",
       "<table border=\"1\" class=\"dataframe\">\n",
       "  <thead>\n",
       "    <tr style=\"text-align: right;\">\n",
       "      <th></th>\n",
       "      <th>Object ID</th>\n",
       "      <th>coordX</th>\n",
       "      <th>coordY</th>\n",
       "    </tr>\n",
       "  </thead>\n",
       "  <tbody>\n",
       "    <tr>\n",
       "      <th>count</th>\n",
       "      <td>427592.000000</td>\n",
       "      <td>4.275920e+05</td>\n",
       "      <td>4.275920e+05</td>\n",
       "    </tr>\n",
       "    <tr>\n",
       "      <th>mean</th>\n",
       "      <td>372414.648611</td>\n",
       "      <td>2.769896e+06</td>\n",
       "      <td>3.885277e+06</td>\n",
       "    </tr>\n",
       "    <tr>\n",
       "      <th>std</th>\n",
       "      <td>223464.293182</td>\n",
       "      <td>4.958926e+06</td>\n",
       "      <td>2.739408e+06</td>\n",
       "    </tr>\n",
       "    <tr>\n",
       "      <th>min</th>\n",
       "      <td>1.000000</td>\n",
       "      <td>-1.698472e+07</td>\n",
       "      <td>-1.054443e+07</td>\n",
       "    </tr>\n",
       "    <tr>\n",
       "      <th>25%</th>\n",
       "      <td>207334.750000</td>\n",
       "      <td>-1.198170e+06</td>\n",
       "      <td>7.068348e+05</td>\n",
       "    </tr>\n",
       "    <tr>\n",
       "      <th>50%</th>\n",
       "      <td>365383.500000</td>\n",
       "      <td>5.476383e+06</td>\n",
       "      <td>4.351821e+06</td>\n",
       "    </tr>\n",
       "    <tr>\n",
       "      <th>75%</th>\n",
       "      <td>550536.250000</td>\n",
       "      <td>6.339757e+06</td>\n",
       "      <td>5.537386e+06</td>\n",
       "    </tr>\n",
       "    <tr>\n",
       "      <th>max</th>\n",
       "      <td>825751.000000</td>\n",
       "      <td>1.621832e+07</td>\n",
       "      <td>1.164035e+07</td>\n",
       "    </tr>\n",
       "  </tbody>\n",
       "</table>\n",
       "</div>"
      ],
      "text/plain": [
       "           Object ID        coordX        coordY\n",
       "count  427592.000000  4.275920e+05  4.275920e+05\n",
       "mean   372414.648611  2.769896e+06  3.885277e+06\n",
       "std    223464.293182  4.958926e+06  2.739408e+06\n",
       "min         1.000000 -1.698472e+07 -1.054443e+07\n",
       "25%    207334.750000 -1.198170e+06  7.068348e+05\n",
       "50%    365383.500000  5.476383e+06  4.351821e+06\n",
       "75%    550536.250000  6.339757e+06  5.537386e+06\n",
       "max    825751.000000  1.621832e+07  1.164035e+07"
      ]
     },
     "execution_count": 22,
     "metadata": {},
     "output_type": "execute_result"
    }
   ],
   "source": [
    "geocodes.describe()"
   ]
  },
  {
   "cell_type": "code",
   "execution_count": 27,
   "metadata": {},
   "outputs": [
    {
     "data": {
      "text/plain": [
       "4958925.7182077365"
      ]
     },
     "execution_count": 27,
     "metadata": {},
     "output_type": "execute_result"
    }
   ],
   "source": [
    "geocodes[\"coordX\"].std()"
   ]
  },
  {
   "cell_type": "code",
   "execution_count": 25,
   "metadata": {},
   "outputs": [],
   "source": [
    "SpatioTemporalData=ClusterData[[\"Object ID\",\"normalised_age\"]].merge(geocodes[[\"Object ID\",\"coordX\",\"coordY\"]],how=\"left\",left_on=\"Object ID\",right_on=\"Object ID\")"
   ]
  },
  {
   "cell_type": "code",
   "execution_count": 28,
   "metadata": {},
   "outputs": [],
   "source": [
    "meanX=geocodes[\"coordX\"].mean()\n",
    "stdX=geocodes[\"coordX\"].std()\n",
    "meanY=geocodes[\"coordY\"].mean()\n",
    "stdY=geocodes[\"coordY\"].std()\n",
    "\n",
    "for i in SpatioTemporalData.index:\n",
    "        SpatioTemporalData.at[i, 'coordX'] = (geocodes.at[i, 'coordX']-meanX)/stdX\n",
    "        SpatioTemporalData.at[i, 'coordY'] = (geocodes.at[i, 'coordY']-meanY)/stdY"
   ]
  },
  {
   "cell_type": "code",
   "execution_count": 31,
   "metadata": {},
   "outputs": [
    {
     "data": {
      "text/plain": [
       "<matplotlib.axes._subplots.AxesSubplot at 0x123ba8390>"
      ]
     },
     "execution_count": 31,
     "metadata": {},
     "output_type": "execute_result"
    },
    {
     "data": {
      "image/png": "[encoded data removed]",
      "text/plain": [
       "<Figure size 432x288 with 1 Axes>"
      ]
     },
     "metadata": {
      "needs_background": "light"
     },
     "output_type": "display_data"
    }
   ],
   "source": [
    "SpatioTemporalData.coordX.hist(bins=10)"
   ]
  },
  {
   "cell_type": "code",
   "execution_count": 32,
   "metadata": {},
   "outputs": [
    {
     "data": {
      "text/plain": [
       "<matplotlib.axes._subplots.AxesSubplot at 0x122edd160>"
      ]
     },
     "execution_count": 32,
     "metadata": {},
     "output_type": "execute_result"
    },
    {
     "data": {
      "image/png": "[encoded data removed]",
      "text/plain": [
       "<Figure size 432x288 with 1 Axes>"
      ]
     },
     "metadata": {
      "needs_background": "light"
     },
     "output_type": "display_data"
    }
   ],
   "source": [
    "SpatioTemporalData.coordY.hist(bins=10)"
   ]
  },
  {
   "cell_type": "code",
   "execution_count": 45,
   "metadata": {},
   "outputs": [],
   "source": [
    "\n",
    "import scipy\n",
    "from sklearn.cluster import DBSCAN\n",
    "from sklearn import metrics\n",
    "import functools\n",
    "\n",
    "\n",
    "def metricFunction(x,y,mu):\n",
    "    time = abs(x[1]-y[1])  \n",
    "    space = Haversine((x[3],x[2]),(y[3],y[2]))\n",
    "    distance = time + mu * space\n",
    "    return distance\n",
    "\n",
    "def dbscanFitMetric(data, eps, minSamples,mu):\n",
    "    metric_weighted=functools.partial(metricFunction,mu=mu)\n",
    "    #DBSCAN for non Year Data\n",
    "    dbscan = DBSCAN(eps = eps, metric = metric_weighted, min_samples = minSamples)\n",
    "    dbscan.fit(data)\n",
    "    dbscan_labels = dbscan.labels_\n",
    "    silh = metrics.silhouette_score(data, dbscan_labels)\n",
    "    print(\"Silhouette Score: \", silh)\n",
    "    clusters = pd.DataFrame(dbscan_labels)\n",
    "    clusters['Count'] = 1\n",
    "    clusters.columns = ['Cluster ID', 'Count']\n",
    "    print(clusters.groupby('Cluster ID').sum().head())\n",
    "    \n",
    "    return dbscan_labels\n",
    "\n",
    "def dbscanFit(data, eps, minSamples):\n",
    "    #DBSCAN for non Year Data\n",
    "    dbscan = DBSCAN(eps = eps,  min_samples = minSamples)\n",
    "    dbscan.fit(data)\n",
    "    dbscan_labels = dbscan.labels_\n",
    "    silh = metrics.silhouette_score(data, dbscan_labels)\n",
    "    print(\"Silhouette Score: \", silh)\n",
    "    clusters = pd.DataFrame(dbscan_labels)\n",
    "    clusters['Count'] = 1\n",
    "    clusters.columns = ['Cluster ID', 'Count']\n",
    "    print(clusters.groupby('Cluster ID').sum().head())\n",
    "    \n",
    "    return dbscan_labels\n",
    "\n"
   ]
  },
  {
   "cell_type": "code",
   "execution_count": 47,
   "metadata": {},
   "outputs": [
    {
     "data": {
      "text/html": [
       "<div>\n",
       "<style scoped>\n",
       "    .dataframe tbody tr th:only-of-type {\n",
       "        vertical-align: middle;\n",
       "    }\n",
       "\n",
       "    .dataframe tbody tr th {\n",
       "        vertical-align: top;\n",
       "    }\n",
       "\n",
       "    .dataframe thead th {\n",
       "        text-align: right;\n",
       "    }\n",
       "</style>\n",
       "<table border=\"1\" class=\"dataframe\">\n",
       "  <thead>\n",
       "    <tr style=\"text-align: right;\">\n",
       "      <th></th>\n",
       "      <th>normalised_age</th>\n",
       "      <th>coordX</th>\n",
       "      <th>coordY</th>\n",
       "    </tr>\n",
       "  </thead>\n",
       "  <tbody>\n",
       "    <tr>\n",
       "      <th>count</th>\n",
       "      <td>427589.000000</td>\n",
       "      <td>427589.000000</td>\n",
       "      <td>427589.000000</td>\n",
       "    </tr>\n",
       "    <tr>\n",
       "      <th>mean</th>\n",
       "      <td>1.014225</td>\n",
       "      <td>0.000002</td>\n",
       "      <td>0.000003</td>\n",
       "    </tr>\n",
       "    <tr>\n",
       "      <th>std</th>\n",
       "      <td>1.921220</td>\n",
       "      <td>1.000001</td>\n",
       "      <td>0.999999</td>\n",
       "    </tr>\n",
       "    <tr>\n",
       "      <th>min</th>\n",
       "      <td>-1.950054</td>\n",
       "      <td>-3.983648</td>\n",
       "      <td>-5.267456</td>\n",
       "    </tr>\n",
       "    <tr>\n",
       "      <th>25%</th>\n",
       "      <td>-0.323841</td>\n",
       "      <td>-0.800187</td>\n",
       "      <td>-1.160266</td>\n",
       "    </tr>\n",
       "    <tr>\n",
       "      <th>50%</th>\n",
       "      <td>0.355305</td>\n",
       "      <td>0.545781</td>\n",
       "      <td>0.170308</td>\n",
       "    </tr>\n",
       "    <tr>\n",
       "      <th>75%</th>\n",
       "      <td>1.560245</td>\n",
       "      <td>0.719886</td>\n",
       "      <td>0.603090</td>\n",
       "    </tr>\n",
       "    <tr>\n",
       "      <th>max</th>\n",
       "      <td>14.609012</td>\n",
       "      <td>2.711963</td>\n",
       "      <td>2.830931</td>\n",
       "    </tr>\n",
       "  </tbody>\n",
       "</table>\n",
       "</div>"
      ],
      "text/plain": [
       "       normalised_age         coordX         coordY\n",
       "count   427589.000000  427589.000000  427589.000000\n",
       "mean         1.014225       0.000002       0.000003\n",
       "std          1.921220       1.000001       0.999999\n",
       "min         -1.950054      -3.983648      -5.267456\n",
       "25%         -0.323841      -0.800187      -1.160266\n",
       "50%          0.355305       0.545781       0.170308\n",
       "75%          1.560245       0.719886       0.603090\n",
       "max         14.609012       2.711963       2.830931"
      ]
     },
     "execution_count": 47,
     "metadata": {},
     "output_type": "execute_result"
    }
   ],
   "source": [
    "SpatioTemporalData.iloc[1:,1:].describe()"
   ]
  },
  {
   "cell_type": "code",
   "execution_count": 50,
   "metadata": {},
   "outputs": [
    {
     "ename": "KeyboardInterrupt",
     "evalue": "",
     "output_type": "error",
     "traceback": [
      "\u001b[0;31m---------------------------------------------------------------------------\u001b[0m",
      "\u001b[0;31mKeyboardInterrupt\u001b[0m                         Traceback (most recent call last)",
      "\u001b[0;32m<ipython-input-50-7b85baaba0cb>\u001b[0m in \u001b[0;36m<module>\u001b[0;34m\u001b[0m\n\u001b[0;32m----> 1\u001b[0;31m \u001b[0mdbscanFit\u001b[0m\u001b[0;34m(\u001b[0m\u001b[0mSpatioTemporalData\u001b[0m\u001b[0;34m.\u001b[0m\u001b[0miloc\u001b[0m\u001b[0;34m[\u001b[0m\u001b[0;36m1\u001b[0m\u001b[0;34m:\u001b[0m\u001b[0;36m100000\u001b[0m\u001b[0;34m,\u001b[0m\u001b[0;36m1\u001b[0m\u001b[0;34m:\u001b[0m\u001b[0;34m]\u001b[0m\u001b[0;34m,\u001b[0m\u001b[0meps\u001b[0m\u001b[0;34m=\u001b[0m\u001b[0;36m0.5\u001b[0m\u001b[0;34m,\u001b[0m\u001b[0mminSamples\u001b[0m\u001b[0;34m=\u001b[0m\u001b[0;36m100\u001b[0m\u001b[0;34m)\u001b[0m\u001b[0;34m\u001b[0m\u001b[0;34m\u001b[0m\u001b[0m\n\u001b[0m",
      "\u001b[0;32m<ipython-input-45-a2a1ff12fcdf>\u001b[0m in \u001b[0;36mdbscanFit\u001b[0;34m(data, eps, minSamples)\u001b[0m\n\u001b[1;32m     32\u001b[0m     \u001b[0mdbscan\u001b[0m\u001b[0;34m.\u001b[0m\u001b[0mfit\u001b[0m\u001b[0;34m(\u001b[0m\u001b[0mdata\u001b[0m\u001b[0;34m)\u001b[0m\u001b[0;34m\u001b[0m\u001b[0;34m\u001b[0m\u001b[0m\n\u001b[1;32m     33\u001b[0m     \u001b[0mdbscan_labels\u001b[0m \u001b[0;34m=\u001b[0m \u001b[0mdbscan\u001b[0m\u001b[0;34m.\u001b[0m\u001b[0mlabels_\u001b[0m\u001b[0;34m\u001b[0m\u001b[0;34m\u001b[0m\u001b[0m\n\u001b[0;32m---> 34\u001b[0;31m     \u001b[0msilh\u001b[0m \u001b[0;34m=\u001b[0m \u001b[0mmetrics\u001b[0m\u001b[0;34m.\u001b[0m\u001b[0msilhouette_score\u001b[0m\u001b[0;34m(\u001b[0m\u001b[0mdata\u001b[0m\u001b[0;34m,\u001b[0m \u001b[0mdbscan_labels\u001b[0m\u001b[0;34m)\u001b[0m\u001b[0;34m\u001b[0m\u001b[0;34m\u001b[0m\u001b[0m\n\u001b[0m\u001b[1;32m     35\u001b[0m     \u001b[0mprint\u001b[0m\u001b[0;34m(\u001b[0m\u001b[0;34m\"Silhouette Score: \"\u001b[0m\u001b[0;34m,\u001b[0m \u001b[0msilh\u001b[0m\u001b[0;34m)\u001b[0m\u001b[0;34m\u001b[0m\u001b[0;34m\u001b[0m\u001b[0m\n\u001b[1;32m     36\u001b[0m     \u001b[0mclusters\u001b[0m \u001b[0;34m=\u001b[0m \u001b[0mpd\u001b[0m\u001b[0;34m.\u001b[0m\u001b[0mDataFrame\u001b[0m\u001b[0;34m(\u001b[0m\u001b[0mdbscan_labels\u001b[0m\u001b[0;34m)\u001b[0m\u001b[0;34m\u001b[0m\u001b[0;34m\u001b[0m\u001b[0m\n",
      "\u001b[0;32m~/anaconda3/lib/python3.6/site-packages/sklearn/metrics/cluster/unsupervised.py\u001b[0m in \u001b[0;36msilhouette_score\u001b[0;34m(X, labels, metric, sample_size, random_state, **kwds)\u001b[0m\n\u001b[1;32m    115\u001b[0m         \u001b[0;32melse\u001b[0m\u001b[0;34m:\u001b[0m\u001b[0;34m\u001b[0m\u001b[0;34m\u001b[0m\u001b[0m\n\u001b[1;32m    116\u001b[0m             \u001b[0mX\u001b[0m\u001b[0;34m,\u001b[0m \u001b[0mlabels\u001b[0m \u001b[0;34m=\u001b[0m \u001b[0mX\u001b[0m\u001b[0;34m[\u001b[0m\u001b[0mindices\u001b[0m\u001b[0;34m]\u001b[0m\u001b[0;34m,\u001b[0m \u001b[0mlabels\u001b[0m\u001b[0;34m[\u001b[0m\u001b[0mindices\u001b[0m\u001b[0;34m]\u001b[0m\u001b[0;34m\u001b[0m\u001b[0;34m\u001b[0m\u001b[0m\n\u001b[0;32m--> 117\u001b[0;31m     \u001b[0;32mreturn\u001b[0m \u001b[0mnp\u001b[0m\u001b[0;34m.\u001b[0m\u001b[0mmean\u001b[0m\u001b[0;34m(\u001b[0m\u001b[0msilhouette_samples\u001b[0m\u001b[0;34m(\u001b[0m\u001b[0mX\u001b[0m\u001b[0;34m,\u001b[0m \u001b[0mlabels\u001b[0m\u001b[0;34m,\u001b[0m \u001b[0mmetric\u001b[0m\u001b[0;34m=\u001b[0m\u001b[0mmetric\u001b[0m\u001b[0;34m,\u001b[0m \u001b[0;34m**\u001b[0m\u001b[0mkwds\u001b[0m\u001b[0;34m)\u001b[0m\u001b[0;34m)\u001b[0m\u001b[0;34m\u001b[0m\u001b[0;34m\u001b[0m\u001b[0m\n\u001b[0m\u001b[1;32m    118\u001b[0m \u001b[0;34m\u001b[0m\u001b[0m\n\u001b[1;32m    119\u001b[0m \u001b[0;34m\u001b[0m\u001b[0m\n",
      "\u001b[0;32m~/anaconda3/lib/python3.6/site-packages/sklearn/metrics/cluster/unsupervised.py\u001b[0m in \u001b[0;36msilhouette_samples\u001b[0;34m(X, labels, metric, **kwds)\u001b[0m\n\u001b[1;32m    221\u001b[0m                                     labels=labels, label_freqs=label_freqs)\n\u001b[1;32m    222\u001b[0m     results = zip(*pairwise_distances_chunked(X, reduce_func=reduce_func,\n\u001b[0;32m--> 223\u001b[0;31m                                               **kwds))\n\u001b[0m\u001b[1;32m    224\u001b[0m     \u001b[0mintra_clust_dists\u001b[0m\u001b[0;34m,\u001b[0m \u001b[0minter_clust_dists\u001b[0m \u001b[0;34m=\u001b[0m \u001b[0mresults\u001b[0m\u001b[0;34m\u001b[0m\u001b[0;34m\u001b[0m\u001b[0m\n\u001b[1;32m    225\u001b[0m     \u001b[0mintra_clust_dists\u001b[0m \u001b[0;34m=\u001b[0m \u001b[0mnp\u001b[0m\u001b[0;34m.\u001b[0m\u001b[0mconcatenate\u001b[0m\u001b[0;34m(\u001b[0m\u001b[0mintra_clust_dists\u001b[0m\u001b[0;34m)\u001b[0m\u001b[0;34m\u001b[0m\u001b[0;34m\u001b[0m\u001b[0m\n",
      "\u001b[0;32m~/anaconda3/lib/python3.6/site-packages/sklearn/metrics/pairwise.py\u001b[0m in \u001b[0;36mpairwise_distances_chunked\u001b[0;34m(X, Y, reduce_func, metric, n_jobs, working_memory, **kwds)\u001b[0m\n\u001b[1;32m   1309\u001b[0m         \u001b[0;32mif\u001b[0m \u001b[0mreduce_func\u001b[0m \u001b[0;32mis\u001b[0m \u001b[0;32mnot\u001b[0m \u001b[0;32mNone\u001b[0m\u001b[0;34m:\u001b[0m\u001b[0;34m\u001b[0m\u001b[0;34m\u001b[0m\u001b[0m\n\u001b[1;32m   1310\u001b[0m             \u001b[0mchunk_size\u001b[0m \u001b[0;34m=\u001b[0m \u001b[0mD_chunk\u001b[0m\u001b[0;34m.\u001b[0m\u001b[0mshape\u001b[0m\u001b[0;34m[\u001b[0m\u001b[0;36m0\u001b[0m\u001b[0;34m]\u001b[0m\u001b[0;34m\u001b[0m\u001b[0;34m\u001b[0m\u001b[0m\n\u001b[0;32m-> 1311\u001b[0;31m             \u001b[0mD_chunk\u001b[0m \u001b[0;34m=\u001b[0m \u001b[0mreduce_func\u001b[0m\u001b[0;34m(\u001b[0m\u001b[0mD_chunk\u001b[0m\u001b[0;34m,\u001b[0m \u001b[0msl\u001b[0m\u001b[0;34m.\u001b[0m\u001b[0mstart\u001b[0m\u001b[0;34m)\u001b[0m\u001b[0;34m\u001b[0m\u001b[0;34m\u001b[0m\u001b[0m\n\u001b[0m\u001b[1;32m   1312\u001b[0m             \u001b[0m_check_chunk_size\u001b[0m\u001b[0;34m(\u001b[0m\u001b[0mD_chunk\u001b[0m\u001b[0;34m,\u001b[0m \u001b[0mchunk_size\u001b[0m\u001b[0;34m)\u001b[0m\u001b[0;34m\u001b[0m\u001b[0;34m\u001b[0m\u001b[0m\n\u001b[1;32m   1313\u001b[0m         \u001b[0;32myield\u001b[0m \u001b[0mD_chunk\u001b[0m\u001b[0;34m\u001b[0m\u001b[0;34m\u001b[0m\u001b[0m\n",
      "\u001b[0;32m~/anaconda3/lib/python3.6/site-packages/sklearn/metrics/cluster/unsupervised.py\u001b[0m in \u001b[0;36m_silhouette_reduce\u001b[0;34m(D_chunk, start, labels, label_freqs)\u001b[0m\n\u001b[1;32m    137\u001b[0m     \u001b[0;32mfor\u001b[0m \u001b[0mi\u001b[0m \u001b[0;32min\u001b[0m \u001b[0mrange\u001b[0m\u001b[0;34m(\u001b[0m\u001b[0mlen\u001b[0m\u001b[0;34m(\u001b[0m\u001b[0mD_chunk\u001b[0m\u001b[0;34m)\u001b[0m\u001b[0;34m)\u001b[0m\u001b[0;34m:\u001b[0m\u001b[0;34m\u001b[0m\u001b[0;34m\u001b[0m\u001b[0m\n\u001b[1;32m    138\u001b[0m         clust_dists[i] += np.bincount(labels, weights=D_chunk[i],\n\u001b[0;32m--> 139\u001b[0;31m                                       minlength=len(label_freqs))\n\u001b[0m\u001b[1;32m    140\u001b[0m \u001b[0;34m\u001b[0m\u001b[0m\n\u001b[1;32m    141\u001b[0m     \u001b[0;31m# intra_index selects intra-cluster distances within clust_dists\u001b[0m\u001b[0;34m\u001b[0m\u001b[0;34m\u001b[0m\u001b[0;34m\u001b[0m\u001b[0m\n",
      "\u001b[0;31mKeyboardInterrupt\u001b[0m: "
     ]
    }
   ],
   "source": [
    "dbscanFit(SpatioTemporalData.iloc[1:100000,1:],eps=0.5,minSamples=100)"
   ]
  },
  {
   "cell_type": "code",
   "execution_count": null,
   "metadata": {},
   "outputs": [],
   "source": []
  },
  {
   "cell_type": "code",
   "execution_count": null,
   "metadata": {},
   "outputs": [],
   "source": []
  }
 ],
 "metadata": {
  "kernelspec": {
   "display_name": "Python 3",
   "language": "python",
   "name": "python3"
  },
  "language_info": {
   "codemirror_mode": {
    "name": "ipython",
    "version": 3
   },
   "file_extension": ".py",
   "mimetype": "text/x-python",
   "name": "python",
   "nbconvert_exporter": "python",
   "pygments_lexer": "ipython3",
   "version": "3.6.8"
  }
 },
 "nbformat": 4,
 "nbformat_minor": 2
}
